{
  "cells": [
    {
      "cell_type": "markdown",
      "metadata": {
        "id": "view-in-github",
        "colab_type": "text"
      },
      "source": [
        "<a href=\"https://colab.research.google.com/github/MSRAVYA19/POWER/blob/main/02_01_loops.ipynb\" target=\"_parent\"><img src=\"https://colab.research.google.com/assets/colab-badge.svg\" alt=\"Open In Colab\"/></a>"
      ]
    },
    {
      "cell_type": "markdown",
      "metadata": {
        "id": "6R4Rg9T2An5P"
      },
      "source": [
        "# 02_01: Warmup with Python Loops"
      ]
    },
    {
      "cell_type": "code",
      "execution_count": null,
      "metadata": {
        "id": "x3K-cGN4An5S"
      },
      "outputs": [],
      "source": [
        "import math\n",
        "import collections\n",
        "\n",
        "import numpy as np\n",
        "import pandas as pd\n",
        "import matplotlib.pyplot as pp\n",
        "\n",
        "%matplotlib inline"
      ]
    },
    {
      "cell_type": "code",
      "execution_count": null,
      "metadata": {
        "id": "ygwdCZHqAn5T"
      },
      "outputs": [],
      "source": [
        "for i in range(0, 10):\n",
        "    print(i)"
      ]
    },
    {
      "cell_type": "code",
      "execution_count": null,
      "metadata": {
        "id": "FhdK9kWPAn5U"
      },
      "outputs": [],
      "source": [
        "for i in range(5):\n",
        "    print(i)"
      ]
    },
    {
      "cell_type": "code",
      "execution_count": null,
      "metadata": {
        "id": "cH4AueLzAn5U"
      },
      "outputs": [],
      "source": [
        "for i in range(0, 10, 2):\n",
        "    print(i)"
      ]
    },
    {
      "cell_type": "code",
      "execution_count": null,
      "metadata": {
        "id": "XzxmmSADAn5V"
      },
      "outputs": [],
      "source": [
        "# loop over all possible counts for each coin (summing up to <= 1$);\n",
        "# if the total amount is exactly $1, add current counts to \"combinations\"\n",
        "\n",
        "combinations = []\n",
        "\n",
        "for count_100 in range(1+1):\n",
        "    for count_50 in range(2+1):\n",
        "        for count_25 in range(4+1):\n",
        "            for count_10 in range(10+1):\n",
        "                for count_5 in range(20+1):\n",
        "                    for count_1 in range(100+1):\n",
        "                        if 100*count_100 + 50*count_50 + 25*count_25 + 10*count_10 + 5*count_5 + count_1 == 100:\n",
        "                            combinations.append([count_100, count_50, count_25, count_10, count_5, count_1])"
      ]
    },
    {
      "cell_type": "code",
      "execution_count": null,
      "metadata": {
        "id": "amf8FTisAn5W"
      },
      "outputs": [],
      "source": [
        "combinations"
      ]
    },
    {
      "cell_type": "code",
      "execution_count": null,
      "metadata": {
        "id": "8c1fg1UiAn5W"
      },
      "outputs": [],
      "source": [
        "len(combinations)"
      ]
    },
    {
      "cell_type": "code",
      "execution_count": null,
      "metadata": {
        "id": "x1AxTxeEAn5X"
      },
      "outputs": [],
      "source": [
        "for count_25 in range(4+1):\n",
        "    print(count_25)"
      ]
    },
    {
      "cell_type": "code",
      "execution_count": null,
      "metadata": {
        "id": "IcmYotOxAn5Y"
      },
      "outputs": [],
      "source": [
        "for amount_25 in range(0, 100+1, 25):\n",
        "    print(amount_25)"
      ]
    },
    {
      "cell_type": "code",
      "execution_count": null,
      "metadata": {
        "id": "IjNhMpXjAn5Y"
      },
      "outputs": [],
      "source": [
        "# loop over all possible $ amount for each coin (summing up to <= 1$);\n",
        "# if the total amount is <= $1, add current amounts to \"combinations_amounts\",\n",
        "# since we can always make up the difference with pennies\n",
        "\n",
        "combinations_amounts = []\n",
        "\n",
        "for amount_100 in range(0, 100+1, 100):\n",
        "    for amount_50 in range(0, 100+1, 50):\n",
        "        for amount_25 in range(0, 100+1, 25):\n",
        "            for amount_10 in range(0, 100+1, 10):\n",
        "                for amount_5 in range(0, 100+1, 5):\n",
        "                    total_so_far = amount_100 + amount_50 + amount_25 + amount_10 + amount_5\n",
        "\n",
        "                    if total_so_far <= 100:\n",
        "                        combinations_amounts.append([amount_100, amount_50, amount_25, amount_10, amount_5,\n",
        "                                                     100 - total_so_far])"
      ]
    },
    {
      "cell_type": "code",
      "execution_count": null,
      "metadata": {
        "id": "kQ9qe7_2An5Z"
      },
      "outputs": [],
      "source": [
        "combinations_amounts"
      ]
    },
    {
      "cell_type": "code",
      "execution_count": null,
      "metadata": {
        "id": "cYJSGwhRAn5Z"
      },
      "outputs": [],
      "source": [
        "len(combinations_amounts)"
      ]
    },
    {
      "cell_type": "code",
      "execution_count": null,
      "metadata": {
        "id": "ncaKmlhzAn5Z"
      },
      "outputs": [],
      "source": [
        "# same as above, but now as a function that takes arbitrary total\n",
        "\n",
        "def find_combinations(total):\n",
        "    combinations_amounts = []\n",
        "\n",
        "    for amount_100 in range(0, total+1, 100):\n",
        "        for amount_50 in range(0, total+1, 50):\n",
        "            for amount_25 in range(0, total+1, 25):\n",
        "                for amount_10 in range(0, total+1, 10):\n",
        "                    for amount_5 in range(0, total+1, 5):\n",
        "                        total_so_far = amount_100 + amount_50 + amount_25 + amount_10 + amount_5\n",
        "\n",
        "                        if total_so_far <= total:\n",
        "                            combinations_amounts.append([amount_100, amount_50, amount_25, amount_10, amount_5,\n",
        "                                                         total - total_so_far])\n",
        "\n",
        "    return combinations_amounts"
      ]
    },
    {
      "cell_type": "code",
      "execution_count": null,
      "metadata": {
        "id": "XEepeOt6An5Z"
      },
      "outputs": [],
      "source": [
        "len(find_combinations(200))"
      ]
    },
    {
      "cell_type": "code",
      "execution_count": null,
      "metadata": {
        "id": "3XLl9aZ6An5Z"
      },
      "outputs": [],
      "source": [
        "len(find_combinations(300))"
      ]
    },
    {
      "cell_type": "code",
      "execution_count": null,
      "metadata": {
        "id": "505Zkv_jAn5a"
      },
      "outputs": [],
      "source": [
        "totals = range(100, 600, 100)\n",
        "lengths = [len(find_combinations(total)) for total in totals]"
      ]
    },
    {
      "cell_type": "code",
      "execution_count": null,
      "metadata": {
        "id": "da55FRKBAn5a"
      },
      "outputs": [],
      "source": [
        "pp.plot(totals, lengths)"
      ]
    }
  ],
  "metadata": {
    "kernelspec": {
      "display_name": "Python 3",
      "language": "python",
      "name": "python3"
    },
    "language_info": {
      "codemirror_mode": {
        "name": "ipython",
        "version": 3
      },
      "file_extension": ".py",
      "mimetype": "text/x-python",
      "name": "python",
      "nbconvert_exporter": "python",
      "pygments_lexer": "ipython3",
      "version": "3.7.3"
    },
    "colab": {
      "provenance": [],
      "include_colab_link": true
    }
  },
  "nbformat": 4,
  "nbformat_minor": 0
}